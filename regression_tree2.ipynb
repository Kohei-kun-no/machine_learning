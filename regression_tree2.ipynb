{
 "cells": [
  {
   "cell_type": "code",
   "execution_count": 1,
   "id": "b5b54bbf",
   "metadata": {},
   "outputs": [],
   "source": [
    "import numpy as np\n",
    "import matplotlib.pyplot as plt\n",
    "import pandas as pd"
   ]
  },
  {
   "cell_type": "code",
   "execution_count": 2,
   "id": "5fce12e4",
   "metadata": {},
   "outputs": [],
   "source": [
    "dataset = pd.read_csv('batters.csv')\n",
    "X = dataset.iloc[:, :-1].values\n",
    "y = dataset.iloc[:, -1].values"
   ]
  },
  {
   "cell_type": "code",
   "execution_count": 7,
   "id": "943a994c",
   "metadata": {},
   "outputs": [
    {
     "data": {
      "text/plain": [
       "DecisionTreeRegressor(max_depth=3, random_state=0)"
      ]
     },
     "execution_count": 7,
     "metadata": {},
     "output_type": "execute_result"
    }
   ],
   "source": [
    "from sklearn.tree import DecisionTreeRegressor\n",
    "regressor = DecisionTreeRegressor(random_state = 0, max_depth=3)\n",
    "regressor.fit(X, y)"
   ]
  },
  {
   "cell_type": "code",
   "execution_count": 8,
   "id": "27266325",
   "metadata": {},
   "outputs": [
    {
     "data": {
      "text/plain": [
       "array([[900. , 900. , 900. , 900. , 900. , 900. , 900. , 900. , 900. ],\n",
       "       [900. , 900. , 900. , 900. , 900. , 900. , 900. , 900. , 900. ],\n",
       "       [900. , 900. , 900. , 900. , 900. , 900. , 900. , 900. , 900. ],\n",
       "       [900. , 900. , 900. , 900. , 900. , 900. , 900. , 900. , 900. ],\n",
       "       [900. , 900. , 900. , 900. , 900. , 900. , 900. , 900. , 900. ],\n",
       "       [ 72.5,  72.5,  72.5,  72.5,  72.5,  72.5, 125. , 125. , 125. ],\n",
       "       [ 72.5,  72.5,  72.5,  72.5,  72.5,  72.5, 125. , 125. , 125. ],\n",
       "       [ 72.5,  72.5,  72.5,  72.5,  72.5,  72.5, 125. , 125. , 125. ],\n",
       "       [ 72.5,  72.5,  72.5,  72.5,  72.5,  72.5, 125. , 125. , 125. ],\n",
       "       [ 72.5,  72.5,  72.5,  72.5,  72.5,  72.5, 125. , 125. , 125. ]])"
      ]
     },
     "execution_count": 8,
     "metadata": {},
     "output_type": "execute_result"
    }
   ],
   "source": [
    "list=np.empty((10,9))\n",
    "for i in range(10):\n",
    "  for j in range(9):\n",
    "    list[i][j]=regressor.predict([[0.5-i*0.05,j]])\n",
    "list"
   ]
  }
 ],
 "metadata": {
  "kernelspec": {
   "display_name": "Python 3",
   "language": "python",
   "name": "python3"
  },
  "language_info": {
   "codemirror_mode": {
    "name": "ipython",
    "version": 3
   },
   "file_extension": ".py",
   "mimetype": "text/x-python",
   "name": "python",
   "nbconvert_exporter": "python",
   "pygments_lexer": "ipython3",
   "version": "3.8.8"
  }
 },
 "nbformat": 4,
 "nbformat_minor": 5
}
